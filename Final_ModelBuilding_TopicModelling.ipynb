{
  "nbformat": 4,
  "nbformat_minor": 0,
  "metadata": {
    "colab": {
      "name": "ModelBuilding_TopicModelling2.ipynb",
      "provenance": [],
      "collapsed_sections": []
    },
    "kernelspec": {
      "display_name": "Python 3",
      "name": "python3"
    },
    "language_info": {
      "name": "python"
    }
  },
  "cells": [
    {
      "cell_type": "markdown",
      "metadata": {
        "id": "PDniKR05dB1m"
      },
      "source": [
        "###Importing Librabries"
      ]
    },
    {
      "cell_type": "code",
      "metadata": {
        "colab": {
          "base_uri": "https://localhost:8080/"
        },
        "id": "RBwYg13lafmX",
        "outputId": "4ef3b017-b720-42cd-a719-3c8cf544db01"
      },
      "source": [
        "import pandas as pd\n",
        "import numpy as np \n",
        "import matplotlib.pyplot as plt\n",
        "import seaborn as sns\n",
        "%matplotlib inline\n",
        "\n",
        "import warnings\n",
        "warnings.filterwarnings('ignore')\n",
        "from wordcloud import WordCloud,STOPWORDS\n",
        "\n",
        "from sklearn.preprocessing import LabelEncoder\n",
        "from sklearn.model_selection import train_test_split\n",
        "from sklearn.model_selection import GridSearchCV,KFold\n",
        "from sklearn.metrics import classification_report\n",
        "\n",
        "from sklearn import metrics\n",
        "from sklearn.feature_extraction.text import CountVectorizer\n",
        "from sklearn.feature_extraction.text import TfidfTransformer\n",
        "from sklearn.metrics import accuracy_score\n",
        "\n",
        "import nltk\n",
        "nltk.download('stopwords')\n",
        "nltk.download('wordnet')\n",
        "from nltk.corpus import stopwords\n",
        "from nltk.stem.wordnet import WordNetLemmatizer\n",
        "import string\n",
        "\n",
        "from sklearn.naive_bayes import MultinomialNB\n",
        "from sklearn.svm import SVC\n",
        "from sklearn.ensemble import RandomForestClassifier\n",
        "from sklearn.ensemble import BaggingClassifier\n",
        "from sklearn.tree import DecisionTreeClassifier\n",
        "from sklearn.ensemble import AdaBoostClassifier\n",
        "from sklearn.ensemble import GradientBoostingClassifier\n",
        "from xgboost import XGBClassifier"
      ],
      "execution_count": null,
      "outputs": [
        {
          "output_type": "stream",
          "text": [
            "[nltk_data] Downloading package stopwords to /root/nltk_data...\n",
            "[nltk_data]   Package stopwords is already up-to-date!\n",
            "[nltk_data] Downloading package wordnet to /root/nltk_data...\n",
            "[nltk_data]   Package wordnet is already up-to-date!\n"
          ],
          "name": "stdout"
        }
      ]
    },
    {
      "cell_type": "markdown",
      "metadata": {
        "id": "f9WTqwkwwMb2"
      },
      "source": [
        "###Loading Data"
      ]
    },
    {
      "cell_type": "code",
      "metadata": {
        "id": "b-kISkKSc-kP"
      },
      "source": [
        "df1 = pd.read_csv(\"Ev.csv\")\n",
        "df2 = pd.read_csv(\"ev1.csv\")"
      ],
      "execution_count": null,
      "outputs": []
    },
    {
      "cell_type": "code",
      "metadata": {
        "id": "_jDbZSXgeNxn"
      },
      "source": [
        "df = pd.concat([df2,df1])"
      ],
      "execution_count": null,
      "outputs": []
    },
    {
      "cell_type": "code",
      "metadata": {
        "colab": {
          "base_uri": "https://localhost:8080/",
          "height": 204
        },
        "id": "Jf_nMI4oeTWG",
        "outputId": "274f4ee3-f52d-410d-f6b3-f2be4cf759e4"
      },
      "source": [
        "df.head()"
      ],
      "execution_count": null,
      "outputs": [
        {
          "output_type": "execute_result",
          "data": {
            "text/html": [
              "<div>\n",
              "<style scoped>\n",
              "    .dataframe tbody tr th:only-of-type {\n",
              "        vertical-align: middle;\n",
              "    }\n",
              "\n",
              "    .dataframe tbody tr th {\n",
              "        vertical-align: top;\n",
              "    }\n",
              "\n",
              "    .dataframe thead th {\n",
              "        text-align: right;\n",
              "    }\n",
              "</style>\n",
              "<table border=\"1\" class=\"dataframe\">\n",
              "  <thead>\n",
              "    <tr style=\"text-align: right;\">\n",
              "      <th></th>\n",
              "      <th>Article</th>\n",
              "      <th>Topic</th>\n",
              "    </tr>\n",
              "  </thead>\n",
              "  <tbody>\n",
              "    <tr>\n",
              "      <th>0</th>\n",
              "      <td>An electric car is a car that is propelled by ...</td>\n",
              "      <td>Electric Car</td>\n",
              "    </tr>\n",
              "    <tr>\n",
              "      <th>1</th>\n",
              "      <td>Several countries have established government ...</td>\n",
              "      <td>Electric Aircraft</td>\n",
              "    </tr>\n",
              "    <tr>\n",
              "      <th>2</th>\n",
              "      <td>The Tesla Model 3, which has a maximum range o...</td>\n",
              "      <td>Electric Car</td>\n",
              "    </tr>\n",
              "    <tr>\n",
              "      <th>3</th>\n",
              "      <td>As of December 2019, the global stock of pure ...</td>\n",
              "      <td>Electric Car</td>\n",
              "    </tr>\n",
              "    <tr>\n",
              "      <th>4</th>\n",
              "      <td>Electric cars are a type of electric vehicle (...</td>\n",
              "      <td>Electric Aircraft</td>\n",
              "    </tr>\n",
              "  </tbody>\n",
              "</table>\n",
              "</div>"
            ],
            "text/plain": [
              "                                             Article              Topic\n",
              "0  An electric car is a car that is propelled by ...       Electric Car\n",
              "1  Several countries have established government ...  Electric Aircraft\n",
              "2  The Tesla Model 3, which has a maximum range o...       Electric Car\n",
              "3  As of December 2019, the global stock of pure ...       Electric Car\n",
              "4  Electric cars are a type of electric vehicle (...  Electric Aircraft"
            ]
          },
          "metadata": {
            "tags": []
          },
          "execution_count": 5
        }
      ]
    },
    {
      "cell_type": "markdown",
      "metadata": {
        "id": "-lQSsQz7zPn3"
      },
      "source": [
        "##Data Preprocessing"
      ]
    },
    {
      "cell_type": "code",
      "metadata": {
        "colab": {
          "base_uri": "https://localhost:8080/",
          "height": 419
        },
        "id": "68kJMWQgxJ4J",
        "outputId": "1e44da22-a6b8-4749-cbb9-c37ebc8e3954"
      },
      "source": [
        "df.reset_index(inplace=True)\n",
        "df = df.drop(['index'],axis=1)\n",
        "df"
      ],
      "execution_count": null,
      "outputs": [
        {
          "output_type": "execute_result",
          "data": {
            "text/html": [
              "<div>\n",
              "<style scoped>\n",
              "    .dataframe tbody tr th:only-of-type {\n",
              "        vertical-align: middle;\n",
              "    }\n",
              "\n",
              "    .dataframe tbody tr th {\n",
              "        vertical-align: top;\n",
              "    }\n",
              "\n",
              "    .dataframe thead th {\n",
              "        text-align: right;\n",
              "    }\n",
              "</style>\n",
              "<table border=\"1\" class=\"dataframe\">\n",
              "  <thead>\n",
              "    <tr style=\"text-align: right;\">\n",
              "      <th></th>\n",
              "      <th>Article</th>\n",
              "      <th>Topic</th>\n",
              "    </tr>\n",
              "  </thead>\n",
              "  <tbody>\n",
              "    <tr>\n",
              "      <th>0</th>\n",
              "      <td>An electric car is a car that is propelled by ...</td>\n",
              "      <td>Electric Car</td>\n",
              "    </tr>\n",
              "    <tr>\n",
              "      <th>1</th>\n",
              "      <td>Several countries have established government ...</td>\n",
              "      <td>Electric Aircraft</td>\n",
              "    </tr>\n",
              "    <tr>\n",
              "      <th>2</th>\n",
              "      <td>The Tesla Model 3, which has a maximum range o...</td>\n",
              "      <td>Electric Car</td>\n",
              "    </tr>\n",
              "    <tr>\n",
              "      <th>3</th>\n",
              "      <td>As of December 2019, the global stock of pure ...</td>\n",
              "      <td>Electric Car</td>\n",
              "    </tr>\n",
              "    <tr>\n",
              "      <th>4</th>\n",
              "      <td>Electric cars are a type of electric vehicle (...</td>\n",
              "      <td>Electric Aircraft</td>\n",
              "    </tr>\n",
              "    <tr>\n",
              "      <th>...</th>\n",
              "      <td>...</td>\n",
              "      <td>...</td>\n",
              "    </tr>\n",
              "    <tr>\n",
              "      <th>554</th>\n",
              "      <td>The following table presents global sales of t...</td>\n",
              "      <td>PlugInEv</td>\n",
              "    </tr>\n",
              "    <tr>\n",
              "      <th>555</th>\n",
              "      <td>The Mitsubishi Outlander P-HEV is the world's ...</td>\n",
              "      <td>PlugInEv</td>\n",
              "    </tr>\n",
              "    <tr>\n",
              "      <th>556</th>\n",
              "      <td>Ranking second is the Toyota Prius Plug-in Hyb...</td>\n",
              "      <td>PlugInEv</td>\n",
              "    </tr>\n",
              "    <tr>\n",
              "      <th>557</th>\n",
              "      <td>Combined global sales of the Chevrolet Volt an...</td>\n",
              "      <td>PlugInEv</td>\n",
              "    </tr>\n",
              "    <tr>\n",
              "      <th>558</th>\n",
              "      <td>The following table presents plug-in hybrid mo...</td>\n",
              "      <td>PlugInEv</td>\n",
              "    </tr>\n",
              "  </tbody>\n",
              "</table>\n",
              "<p>559 rows × 2 columns</p>\n",
              "</div>"
            ],
            "text/plain": [
              "                                               Article              Topic\n",
              "0    An electric car is a car that is propelled by ...       Electric Car\n",
              "1    Several countries have established government ...  Electric Aircraft\n",
              "2    The Tesla Model 3, which has a maximum range o...       Electric Car\n",
              "3    As of December 2019, the global stock of pure ...       Electric Car\n",
              "4    Electric cars are a type of electric vehicle (...  Electric Aircraft\n",
              "..                                                 ...                ...\n",
              "554  The following table presents global sales of t...           PlugInEv\n",
              "555  The Mitsubishi Outlander P-HEV is the world's ...           PlugInEv\n",
              "556  Ranking second is the Toyota Prius Plug-in Hyb...           PlugInEv\n",
              "557  Combined global sales of the Chevrolet Volt an...           PlugInEv\n",
              "558  The following table presents plug-in hybrid mo...           PlugInEv\n",
              "\n",
              "[559 rows x 2 columns]"
            ]
          },
          "metadata": {
            "tags": []
          },
          "execution_count": 6
        }
      ]
    },
    {
      "cell_type": "code",
      "metadata": {
        "colab": {
          "base_uri": "https://localhost:8080/",
          "height": 286
        },
        "id": "2_klNGsAzXCa",
        "outputId": "349eb5b3-7c05-42d5-ef2b-4457ed0c515d"
      },
      "source": [
        "sns.heatmap(df.isnull(),cmap=\"GnBu_r\")"
      ],
      "execution_count": null,
      "outputs": [
        {
          "output_type": "execute_result",
          "data": {
            "text/plain": [
              "<matplotlib.axes._subplots.AxesSubplot at 0x7f290b2325d0>"
            ]
          },
          "metadata": {
            "tags": []
          },
          "execution_count": 8
        },
        {
          "output_type": "display_data",
          "data": {
            "image/png": "[encoded data removed]",
            "text/plain": [
              "<Figure size 432x288 with 2 Axes>"
            ]
          },
          "metadata": {
            "tags": [],
            "needs_background": "light"
          }
        }
      ]
    },
    {
      "cell_type": "code",
      "metadata": {
        "id": "GywvgWcjm4or"
      },
      "source": [
        "df.dropna(inplace=True)"
      ],
      "execution_count": null,
      "outputs": []
    },
    {
      "cell_type": "markdown",
      "metadata": {
        "id": "64OdLDbWw1ik"
      },
      "source": [
        "##Exploratory Data Analysis"
      ]
    },
    {
      "cell_type": "code",
      "metadata": {
        "colab": {
          "base_uri": "https://localhost:8080/",
          "height": 111
        },
        "id": "WpMAj3htx-xZ",
        "outputId": "b900d9f3-03b2-4f6c-aacf-ec8de59c878d"
      },
      "source": [
        "df.describe().T"
      ],
      "execution_count": null,
      "outputs": [
        {
          "output_type": "execute_result",
          "data": {
            "text/html": [
              "<div>\n",
              "<style scoped>\n",
              "    .dataframe tbody tr th:only-of-type {\n",
              "        vertical-align: middle;\n",
              "    }\n",
              "\n",
              "    .dataframe tbody tr th {\n",
              "        vertical-align: top;\n",
              "    }\n",
              "\n",
              "    .dataframe thead th {\n",
              "        text-align: right;\n",
              "    }\n",
              "</style>\n",
              "<table border=\"1\" class=\"dataframe\">\n",
              "  <thead>\n",
              "    <tr style=\"text-align: right;\">\n",
              "      <th></th>\n",
              "      <th>count</th>\n",
              "      <th>unique</th>\n",
              "      <th>top</th>\n",
              "      <th>freq</th>\n",
              "    </tr>\n",
              "  </thead>\n",
              "  <tbody>\n",
              "    <tr>\n",
              "      <th>Article</th>\n",
              "      <td>554</td>\n",
              "      <td>554</td>\n",
              "      <td>Global sales of the Toyota Prius liftback pass...</td>\n",
              "      <td>1</td>\n",
              "    </tr>\n",
              "    <tr>\n",
              "      <th>Topic</th>\n",
              "      <td>554</td>\n",
              "      <td>5</td>\n",
              "      <td>Electric Aircraft</td>\n",
              "      <td>182</td>\n",
              "    </tr>\n",
              "  </tbody>\n",
              "</table>\n",
              "</div>"
            ],
            "text/plain": [
              "        count unique                                                top freq\n",
              "Article   554    554  Global sales of the Toyota Prius liftback pass...    1\n",
              "Topic     554      5                                  Electric Aircraft  182"
            ]
          },
          "metadata": {
            "tags": []
          },
          "execution_count": 10
        }
      ]
    },
    {
      "cell_type": "code",
      "metadata": {
        "colab": {
          "base_uri": "https://localhost:8080/"
        },
        "id": "n9rEXxxHyfQT",
        "outputId": "175c45e0-4533-4b85-c1a3-3cc78290e27e"
      },
      "source": [
        "df.info()"
      ],
      "execution_count": null,
      "outputs": [
        {
          "output_type": "stream",
          "text": [
            "<class 'pandas.core.frame.DataFrame'>\n",
            "Int64Index: 554 entries, 0 to 558\n",
            "Data columns (total 2 columns):\n",
            " #   Column   Non-Null Count  Dtype \n",
            "---  ------   --------------  ----- \n",
            " 0   Article  554 non-null    object\n",
            " 1   Topic    554 non-null    object\n",
            "dtypes: object(2)\n",
            "memory usage: 13.0+ KB\n"
          ],
          "name": "stdout"
        }
      ]
    },
    {
      "cell_type": "markdown",
      "metadata": {
        "id": "gVUg9ELA0P6x"
      },
      "source": [
        "####Let's add a column as a part of Feature Engg to check the number of words in the Article"
      ]
    },
    {
      "cell_type": "code",
      "metadata": {
        "colab": {
          "base_uri": "https://localhost:8080/",
          "height": 419
        },
        "id": "AJu_MUS5z__y",
        "outputId": "9e02f833-39d0-41ae-b552-ca6d2eec7de7"
      },
      "source": [
        "df['length'] = df['Article'].apply(len)\n",
        "df"
      ],
      "execution_count": null,
      "outputs": [
        {
          "output_type": "execute_result",
          "data": {
            "text/html": [
              "<div>\n",
              "<style scoped>\n",
              "    .dataframe tbody tr th:only-of-type {\n",
              "        vertical-align: middle;\n",
              "    }\n",
              "\n",
              "    .dataframe tbody tr th {\n",
              "        vertical-align: top;\n",
              "    }\n",
              "\n",
              "    .dataframe thead th {\n",
              "        text-align: right;\n",
              "    }\n",
              "</style>\n",
              "<table border=\"1\" class=\"dataframe\">\n",
              "  <thead>\n",
              "    <tr style=\"text-align: right;\">\n",
              "      <th></th>\n",
              "      <th>Article</th>\n",
              "      <th>Topic</th>\n",
              "      <th>length</th>\n",
              "    </tr>\n",
              "  </thead>\n",
              "  <tbody>\n",
              "    <tr>\n",
              "      <th>0</th>\n",
              "      <td>An electric car is a car that is propelled by ...</td>\n",
              "      <td>Electric Car</td>\n",
              "      <td>570</td>\n",
              "    </tr>\n",
              "    <tr>\n",
              "      <th>1</th>\n",
              "      <td>Several countries have established government ...</td>\n",
              "      <td>Electric Aircraft</td>\n",
              "      <td>357</td>\n",
              "    </tr>\n",
              "    <tr>\n",
              "      <th>2</th>\n",
              "      <td>The Tesla Model 3, which has a maximum range o...</td>\n",
              "      <td>Electric Car</td>\n",
              "      <td>347</td>\n",
              "    </tr>\n",
              "    <tr>\n",
              "      <th>3</th>\n",
              "      <td>As of December 2019, the global stock of pure ...</td>\n",
              "      <td>Electric Car</td>\n",
              "      <td>610</td>\n",
              "    </tr>\n",
              "    <tr>\n",
              "      <th>4</th>\n",
              "      <td>Electric cars are a type of electric vehicle (...</td>\n",
              "      <td>Electric Aircraft</td>\n",
              "      <td>599</td>\n",
              "    </tr>\n",
              "    <tr>\n",
              "      <th>...</th>\n",
              "      <td>...</td>\n",
              "      <td>...</td>\n",
              "      <td>...</td>\n",
              "    </tr>\n",
              "    <tr>\n",
              "      <th>554</th>\n",
              "      <td>The following table presents global sales of t...</td>\n",
              "      <td>PlugInEv</td>\n",
              "      <td>363</td>\n",
              "    </tr>\n",
              "    <tr>\n",
              "      <th>555</th>\n",
              "      <td>The Mitsubishi Outlander P-HEV is the world's ...</td>\n",
              "      <td>PlugInEv</td>\n",
              "      <td>453</td>\n",
              "    </tr>\n",
              "    <tr>\n",
              "      <th>556</th>\n",
              "      <td>Ranking second is the Toyota Prius Plug-in Hyb...</td>\n",
              "      <td>PlugInEv</td>\n",
              "      <td>375</td>\n",
              "    </tr>\n",
              "    <tr>\n",
              "      <th>557</th>\n",
              "      <td>Combined global sales of the Chevrolet Volt an...</td>\n",
              "      <td>PlugInEv</td>\n",
              "      <td>502</td>\n",
              "    </tr>\n",
              "    <tr>\n",
              "      <th>558</th>\n",
              "      <td>The following table presents plug-in hybrid mo...</td>\n",
              "      <td>PlugInEv</td>\n",
              "      <td>236</td>\n",
              "    </tr>\n",
              "  </tbody>\n",
              "</table>\n",
              "<p>554 rows × 3 columns</p>\n",
              "</div>"
            ],
            "text/plain": [
              "                                               Article  ... length\n",
              "0    An electric car is a car that is propelled by ...  ...    570\n",
              "1    Several countries have established government ...  ...    357\n",
              "2    The Tesla Model 3, which has a maximum range o...  ...    347\n",
              "3    As of December 2019, the global stock of pure ...  ...    610\n",
              "4    Electric cars are a type of electric vehicle (...  ...    599\n",
              "..                                                 ...  ...    ...\n",
              "554  The following table presents global sales of t...  ...    363\n",
              "555  The Mitsubishi Outlander P-HEV is the world's ...  ...    453\n",
              "556  Ranking second is the Toyota Prius Plug-in Hyb...  ...    375\n",
              "557  Combined global sales of the Chevrolet Volt an...  ...    502\n",
              "558  The following table presents plug-in hybrid mo...  ...    236\n",
              "\n",
              "[554 rows x 3 columns]"
            ]
          },
          "metadata": {
            "tags": []
          },
          "execution_count": 12
        }
      ]
    },
    {
      "cell_type": "code",
      "metadata": {
        "colab": {
          "base_uri": "https://localhost:8080/",
          "height": 419
        },
        "id": "41vRKh4ICRMl",
        "outputId": "8b7da8cb-6976-418e-8985-a094498daae8"
      },
      "source": [
        "df.reset_index(inplace=True)\n",
        "df = df.drop(['index'],axis=1)\n",
        "df"
      ],
      "execution_count": null,
      "outputs": [
        {
          "output_type": "execute_result",
          "data": {
            "text/html": [
              "<div>\n",
              "<style scoped>\n",
              "    .dataframe tbody tr th:only-of-type {\n",
              "        vertical-align: middle;\n",
              "    }\n",
              "\n",
              "    .dataframe tbody tr th {\n",
              "        vertical-align: top;\n",
              "    }\n",
              "\n",
              "    .dataframe thead th {\n",
              "        text-align: right;\n",
              "    }\n",
              "</style>\n",
              "<table border=\"1\" class=\"dataframe\">\n",
              "  <thead>\n",
              "    <tr style=\"text-align: right;\">\n",
              "      <th></th>\n",
              "      <th>Article</th>\n",
              "      <th>Topic</th>\n",
              "      <th>length</th>\n",
              "    </tr>\n",
              "  </thead>\n",
              "  <tbody>\n",
              "    <tr>\n",
              "      <th>0</th>\n",
              "      <td>An electric car is a car that is propelled by ...</td>\n",
              "      <td>Electric Car</td>\n",
              "      <td>570</td>\n",
              "    </tr>\n",
              "    <tr>\n",
              "      <th>1</th>\n",
              "      <td>Several countries have established government ...</td>\n",
              "      <td>Electric Aircraft</td>\n",
              "      <td>357</td>\n",
              "    </tr>\n",
              "    <tr>\n",
              "      <th>2</th>\n",
              "      <td>The Tesla Model 3, which has a maximum range o...</td>\n",
              "      <td>Electric Car</td>\n",
              "      <td>347</td>\n",
              "    </tr>\n",
              "    <tr>\n",
              "      <th>3</th>\n",
              "      <td>As of December 2019, the global stock of pure ...</td>\n",
              "      <td>Electric Car</td>\n",
              "      <td>610</td>\n",
              "    </tr>\n",
              "    <tr>\n",
              "      <th>4</th>\n",
              "      <td>Electric cars are a type of electric vehicle (...</td>\n",
              "      <td>Electric Aircraft</td>\n",
              "      <td>599</td>\n",
              "    </tr>\n",
              "    <tr>\n",
              "      <th>...</th>\n",
              "      <td>...</td>\n",
              "      <td>...</td>\n",
              "      <td>...</td>\n",
              "    </tr>\n",
              "    <tr>\n",
              "      <th>549</th>\n",
              "      <td>The following table presents global sales of t...</td>\n",
              "      <td>PlugInEv</td>\n",
              "      <td>363</td>\n",
              "    </tr>\n",
              "    <tr>\n",
              "      <th>550</th>\n",
              "      <td>The Mitsubishi Outlander P-HEV is the world's ...</td>\n",
              "      <td>PlugInEv</td>\n",
              "      <td>453</td>\n",
              "    </tr>\n",
              "    <tr>\n",
              "      <th>551</th>\n",
              "      <td>Ranking second is the Toyota Prius Plug-in Hyb...</td>\n",
              "      <td>PlugInEv</td>\n",
              "      <td>375</td>\n",
              "    </tr>\n",
              "    <tr>\n",
              "      <th>552</th>\n",
              "      <td>Combined global sales of the Chevrolet Volt an...</td>\n",
              "      <td>PlugInEv</td>\n",
              "      <td>502</td>\n",
              "    </tr>\n",
              "    <tr>\n",
              "      <th>553</th>\n",
              "      <td>The following table presents plug-in hybrid mo...</td>\n",
              "      <td>PlugInEv</td>\n",
              "      <td>236</td>\n",
              "    </tr>\n",
              "  </tbody>\n",
              "</table>\n",
              "<p>554 rows × 3 columns</p>\n",
              "</div>"
            ],
            "text/plain": [
              "                                               Article  ... length\n",
              "0    An electric car is a car that is propelled by ...  ...    570\n",
              "1    Several countries have established government ...  ...    357\n",
              "2    The Tesla Model 3, which has a maximum range o...  ...    347\n",
              "3    As of December 2019, the global stock of pure ...  ...    610\n",
              "4    Electric cars are a type of electric vehicle (...  ...    599\n",
              "..                                                 ...  ...    ...\n",
              "549  The following table presents global sales of t...  ...    363\n",
              "550  The Mitsubishi Outlander P-HEV is the world's ...  ...    453\n",
              "551  Ranking second is the Toyota Prius Plug-in Hyb...  ...    375\n",
              "552  Combined global sales of the Chevrolet Volt an...  ...    502\n",
              "553  The following table presents plug-in hybrid mo...  ...    236\n",
              "\n",
              "[554 rows x 3 columns]"
            ]
          },
          "metadata": {
            "tags": []
          },
          "execution_count": 13
        }
      ]
    },
    {
      "cell_type": "code",
      "metadata": {
        "colab": {
          "base_uri": "https://localhost:8080/",
          "height": 282
        },
        "id": "KVYUb_j_03B1",
        "outputId": "29cf7ff7-b4ab-453a-b208-fcf99e787014"
      },
      "source": [
        "df['length'].plot(bins=40,kind='hist')"
      ],
      "execution_count": null,
      "outputs": [
        {
          "output_type": "execute_result",
          "data": {
            "text/plain": [
              "<matplotlib.axes._subplots.AxesSubplot at 0x7f29019cfbd0>"
            ]
          },
          "metadata": {
            "tags": []
          },
          "execution_count": 14
        },
        {
          "output_type": "display_data",
          "data": {
            "image/png": "[encoded data removed]",
            "text/plain": [
              "<Figure size 432x288 with 1 Axes>"
            ]
          },
          "metadata": {
            "tags": [],
            "needs_background": "light"
          }
        }
      ]
    },
    {
      "cell_type": "code",
      "metadata": {
        "colab": {
          "base_uri": "https://localhost:8080/"
        },
        "id": "y09Jkfeu04B8",
        "outputId": "40a75495-afbb-4c3f-f478-042d5851b9ca"
      },
      "source": [
        "df.length.describe()"
      ],
      "execution_count": null,
      "outputs": [
        {
          "output_type": "execute_result",
          "data": {
            "text/plain": [
              "count     542.000000\n",
              "mean      440.588561\n",
              "std       271.051104\n",
              "min        19.000000\n",
              "25%       244.250000\n",
              "50%       406.500000\n",
              "75%       568.750000\n",
              "max      2655.000000\n",
              "Name: length, dtype: float64"
            ]
          },
          "metadata": {
            "tags": []
          },
          "execution_count": 68
        }
      ]
    },
    {
      "cell_type": "markdown",
      "metadata": {
        "id": "QSJeNsaU4Lxq"
      },
      "source": [
        "####Well 2655 words in a Article, seems like a novel so let's try to remove that novel"
      ]
    },
    {
      "cell_type": "code",
      "metadata": {
        "colab": {
          "base_uri": "https://localhost:8080/",
          "height": 80
        },
        "id": "1mwuX3oG03-1",
        "outputId": "9469f0f6-aa08-48b7-e90d-844cdf283ff1"
      },
      "source": [
        "df[df['length'] == 2655]"
      ],
      "execution_count": null,
      "outputs": [
        {
          "output_type": "execute_result",
          "data": {
            "text/html": [
              "<div>\n",
              "<style scoped>\n",
              "    .dataframe tbody tr th:only-of-type {\n",
              "        vertical-align: middle;\n",
              "    }\n",
              "\n",
              "    .dataframe tbody tr th {\n",
              "        vertical-align: top;\n",
              "    }\n",
              "\n",
              "    .dataframe thead th {\n",
              "        text-align: right;\n",
              "    }\n",
              "</style>\n",
              "<table border=\"1\" class=\"dataframe\">\n",
              "  <thead>\n",
              "    <tr style=\"text-align: right;\">\n",
              "      <th></th>\n",
              "      <th>Article</th>\n",
              "      <th>Topic</th>\n",
              "      <th>length</th>\n",
              "    </tr>\n",
              "  </thead>\n",
              "  <tbody>\n",
              "    <tr>\n",
              "      <th>187</th>\n",
              "      <td>Some studies try to compare environmental impa...</td>\n",
              "      <td>Electric Aircraft</td>\n",
              "      <td>2655</td>\n",
              "    </tr>\n",
              "  </tbody>\n",
              "</table>\n",
              "</div>"
            ],
            "text/plain": [
              "                                               Article  ... length\n",
              "187  Some studies try to compare environmental impa...  ...   2655\n",
              "\n",
              "[1 rows x 3 columns]"
            ]
          },
          "metadata": {
            "tags": []
          },
          "execution_count": 15
        }
      ]
    },
    {
      "cell_type": "code",
      "metadata": {
        "id": "Iso7ccVs3eny"
      },
      "source": [
        "df = df.drop([187])"
      ],
      "execution_count": null,
      "outputs": []
    },
    {
      "cell_type": "markdown",
      "metadata": {
        "id": "JXHyDQVaNW-a"
      },
      "source": [
        "###Label Encoder"
      ]
    },
    {
      "cell_type": "code",
      "metadata": {
        "id": "fDJwhtBDevt7"
      },
      "source": [
        "df['Topic'] = LabelEncoder().fit_transform(df['Topic'])"
      ],
      "execution_count": null,
      "outputs": []
    },
    {
      "cell_type": "markdown",
      "metadata": {
        "id": "3_YadeLNNKPM"
      },
      "source": [
        "###Train Test Split"
      ]
    },
    {
      "cell_type": "code",
      "metadata": {
        "id": "niApW6bbiHT6"
      },
      "source": [
        "X = df['Article'].values\n",
        "Y = df['Topic'].values"
      ],
      "execution_count": null,
      "outputs": []
    },
    {
      "cell_type": "code",
      "metadata": {
        "id": "pTdjAlyFNNZ-"
      },
      "source": [
        "x_train,x_test,y_train,y_test = train_test_split(X,Y,test_size=0.2)"
      ],
      "execution_count": null,
      "outputs": []
    },
    {
      "cell_type": "markdown",
      "metadata": {
        "id": "RI76dYcm4sWn"
      },
      "source": [
        "###Text Preprocessing"
      ]
    },
    {
      "cell_type": "code",
      "metadata": {
        "id": "QrOmpirk4y19"
      },
      "source": [
        "stop = set(stopwords.words('english'))\n",
        "exclude = set(string.punctuation)\n",
        "lemma = WordNetLemmatizer()"
      ],
      "execution_count": null,
      "outputs": []
    },
    {
      "cell_type": "code",
      "metadata": {
        "id": "pbcbrAP54yyg"
      },
      "source": [
        "def clean(doc):\n",
        "  stop_free = \" \".join([i for i in doc.lower().split() if i not in stop])\n",
        "  punc_free = ''.join(ch for ch in stop_free if ch not in exclude)\n",
        "  normalized = [lemma.lemmatize(word) for word in punc_free.split()]\n",
        "  return normalized"
      ],
      "execution_count": null,
      "outputs": []
    },
    {
      "cell_type": "markdown",
      "metadata": {
        "id": "i-zPnlU0x1nj"
      },
      "source": [
        "###Text Vectorization"
      ]
    },
    {
      "cell_type": "code",
      "metadata": {
        "colab": {
          "base_uri": "https://localhost:8080/"
        },
        "id": "SV5fvbTe4yvG",
        "outputId": "dece08b0-66ab-44cd-9e23-3b42024e0d82"
      },
      "source": [
        "bow_trans = CountVectorizer().fit(x_train)\n",
        "print(len(bow_trans.vocabulary_))"
      ],
      "execution_count": null,
      "outputs": [
        {
          "output_type": "stream",
          "text": [
            "4398\n"
          ],
          "name": "stdout"
        }
      ]
    },
    {
      "cell_type": "code",
      "metadata": {
        "id": "35fdbar5zJRM"
      },
      "source": [
        "ev_bow = bow_trans.transform(x_train)"
      ],
      "execution_count": null,
      "outputs": []
    },
    {
      "cell_type": "code",
      "metadata": {
        "id": "m3QM8GnDPNTq"
      },
      "source": [
        "ev_test = bow_trans.transform(x_test)"
      ],
      "execution_count": null,
      "outputs": []
    },
    {
      "cell_type": "code",
      "metadata": {
        "colab": {
          "base_uri": "https://localhost:8080/"
        },
        "id": "aviy6Qwz2hRh",
        "outputId": "7dcfccaa-ec4c-4b52-cb9a-7d6cb855c68c"
      },
      "source": [
        "print('Shape of Sparse Matrix : ',ev_bow.shape)\n",
        "print('Amount of non-zero occurences : ',ev_bow.nnz)"
      ],
      "execution_count": null,
      "outputs": [
        {
          "output_type": "stream",
          "text": [
            "Shape of Sparse Matrix :  (432, 4398)\n",
            "Amount of non-zero occurences :  20892\n"
          ],
          "name": "stdout"
        }
      ]
    },
    {
      "cell_type": "markdown",
      "metadata": {
        "id": "No4GT8Uzg2IL"
      },
      "source": [
        "##Model Building"
      ]
    },
    {
      "cell_type": "code",
      "metadata": {
        "colab": {
          "base_uri": "https://localhost:8080/"
        },
        "id": "D7YO4RHIPjbd",
        "outputId": "a21f0d60-fa29-4bbc-98d1-152e0ddc780e"
      },
      "source": [
        "from sklearn.naive_bayes import MultinomialNB\n",
        "clf = MultinomialNB()\n",
        "alpha = [0.1,1,3]\n",
        "params = dict(alpha=alpha)\n",
        "cv = KFold(n_splits=10)\n",
        "grid  = GridSearchCV(clf,param_grid=params,scoring='accuracy',cv=cv,n_jobs=-1)\n",
        "grid.fit(ev_bow,y_train)\n",
        "print('Best Score is {} and Best params are {}'.format(grid.best_score_,grid.best_params_))"
      ],
      "execution_count": null,
      "outputs": [
        {
          "output_type": "stream",
          "text": [
            "Best Score is 0.5975687103594081 and Best params are {'alpha': 0.1}\n"
          ],
          "name": "stdout"
        }
      ]
    },
    {
      "cell_type": "code",
      "metadata": {
        "colab": {
          "base_uri": "https://localhost:8080/"
        },
        "id": "Jl_8aGaXpA6h",
        "outputId": "e8c89444-c24f-486f-f9d3-28e54299e1bf"
      },
      "source": [
        "clf = MultinomialNB(alpha=1)\n",
        "clf.fit(ev_bow,y_train)\n",
        "y_pred_test = clf.predict(ev_test)\n",
        "print(classification_report(y_test,y_pred_test))"
      ],
      "execution_count": null,
      "outputs": [
        {
          "output_type": "stream",
          "text": [
            "              precision    recall  f1-score   support\n",
            "\n",
            "           0       0.78      0.90      0.84        20\n",
            "           1       0.62      0.24      0.34        21\n",
            "           2       0.50      0.38      0.43        21\n",
            "           3       0.42      0.41      0.42        27\n",
            "           4       0.36      0.65      0.46        20\n",
            "\n",
            "    accuracy                           0.50       109\n",
            "   macro avg       0.54      0.52      0.50       109\n",
            "weighted avg       0.53      0.50      0.49       109\n",
            "\n"
          ],
          "name": "stdout"
        }
      ]
    },
    {
      "cell_type": "code",
      "metadata": {
        "colab": {
          "base_uri": "https://localhost:8080/"
        },
        "id": "yQGcOONBFYIY",
        "outputId": "06277daa-90ab-46f9-d7ef-c0c3c878f6cb"
      },
      "source": [
        "from sklearn.svm import SVC\n",
        "clf2 = SVC()\n",
        "kernel = ['rbf','poly']\n",
        "C = [50,10,1,0.1]\n",
        "gamma = ['auto','scale']\n",
        "params = dict(kernel=kernel,C=C,gamma=gamma)\n",
        "cv = KFold(n_splits=5)\n",
        "grid  = GridSearchCV(clf2,param_grid=params,scoring='accuracy',cv=cv,n_jobs=-1)\n",
        "grid.fit(ev_bow,y_train)\n",
        "print('Best Score is {} and Best params are {}'.format(grid.best_score_,grid.best_params_))"
      ],
      "execution_count": null,
      "outputs": [
        {
          "output_type": "stream",
          "text": [
            "Best Score is 0.5809676557070302 and Best params are {'C': 50, 'gamma': 'auto', 'kernel': 'rbf'}\n"
          ],
          "name": "stdout"
        }
      ]
    },
    {
      "cell_type": "code",
      "metadata": {
        "colab": {
          "base_uri": "https://localhost:8080/"
        },
        "id": "mapHUB255icm",
        "outputId": "46ad81c6-44cb-4ad5-c326-fc1c252ea099"
      },
      "source": [
        "clf2 = SVC(C=50,kernel='rbf',gamma='scale')\n",
        "clf2.fit(ev_bow,y_train)\n",
        "y_pred_test2 = clf2.predict(ev_test)\n",
        "print(classification_report(y_test,y_pred_test2))"
      ],
      "execution_count": null,
      "outputs": [
        {
          "output_type": "stream",
          "text": [
            "              precision    recall  f1-score   support\n",
            "\n",
            "           0       0.74      0.70      0.72        20\n",
            "           1       0.60      0.43      0.50        21\n",
            "           2       0.53      0.48      0.50        21\n",
            "           3       0.65      0.74      0.69        27\n",
            "           4       0.52      0.65      0.58        20\n",
            "\n",
            "    accuracy                           0.61       109\n",
            "   macro avg       0.61      0.60      0.60       109\n",
            "weighted avg       0.61      0.61      0.60       109\n",
            "\n"
          ],
          "name": "stdout"
        }
      ]
    },
    {
      "cell_type": "code",
      "metadata": {
        "colab": {
          "base_uri": "https://localhost:8080/"
        },
        "id": "Rt_v2WViIfL7",
        "outputId": "2842f698-576b-4d22-d9a7-f2f8640002f9"
      },
      "source": [
        "from sklearn.ensemble import RandomForestClassifier\n",
        "clf3 = RandomForestClassifier()\n",
        "n_estimators = [50,100,200,500]\n",
        "max_depth = [50,100,200]\n",
        "params = dict(n_estimators=n_estimators,max_depth=max_depth)\n",
        "cv = KFold(n_splits=5)\n",
        "grid  = GridSearchCV(clf3,param_grid=params,scoring='accuracy',cv=cv,n_jobs=-1)\n",
        "grid.fit(ev_bow,y_train)\n",
        "print('Best Score is {} and Best params are {}'.format(grid.best_score_,grid.best_params_))"
      ],
      "execution_count": null,
      "outputs": [
        {
          "output_type": "stream",
          "text": [
            "Best Score is 0.6506281742849505 and Best params are {'max_depth': 100, 'n_estimators': 200}\n"
          ],
          "name": "stdout"
        }
      ]
    },
    {
      "cell_type": "code",
      "metadata": {
        "colab": {
          "base_uri": "https://localhost:8080/"
        },
        "id": "o9YX3jV2olRV",
        "outputId": "95787a8b-9241-4606-fd1e-a592fcc6a597"
      },
      "source": [
        "clf3 = RandomForestClassifier(n_estimators=100,max_depth=100)\n",
        "clf3.fit(ev_bow,y_train)\n",
        "y_pred_test3 = clf3.predict(ev_test)\n",
        "print(classification_report(y_test,y_pred_test3))"
      ],
      "execution_count": null,
      "outputs": [
        {
          "output_type": "stream",
          "text": [
            "              precision    recall  f1-score   support\n",
            "\n",
            "           0       0.89      0.85      0.87        20\n",
            "           1       0.56      0.43      0.49        21\n",
            "           2       0.62      0.38      0.47        21\n",
            "           3       0.60      0.78      0.68        27\n",
            "           4       0.62      0.80      0.70        20\n",
            "\n",
            "    accuracy                           0.65       109\n",
            "   macro avg       0.66      0.65      0.64       109\n",
            "weighted avg       0.65      0.65      0.64       109\n",
            "\n"
          ],
          "name": "stdout"
        }
      ]
    },
    {
      "cell_type": "code",
      "metadata": {
        "colab": {
          "base_uri": "https://localhost:8080/"
        },
        "id": "W9C13IxwLqcU",
        "outputId": "2c26c10f-35f2-4285-f58f-009aad42985f"
      },
      "source": [
        "from sklearn.ensemble import BaggingClassifier\n",
        "clf4 = BaggingClassifier()\n",
        "params = {'n_estimators':[10,50,100,200]}\n",
        "cv = KFold(n_splits=5)\n",
        "grid  = GridSearchCV(clf4,param_grid=params,scoring='accuracy',cv=cv,n_jobs=-1)\n",
        "grid.fit(ev_bow,y_train)\n",
        "print('Best Score is {} and Best params are {}'.format(grid.best_score_,grid.best_params_))"
      ],
      "execution_count": null,
      "outputs": [
        {
          "output_type": "stream",
          "text": [
            "Best Score is 0.6921946003742314 and Best params are {'n_estimators': 100}\n"
          ],
          "name": "stdout"
        }
      ]
    },
    {
      "cell_type": "code",
      "metadata": {
        "colab": {
          "base_uri": "https://localhost:8080/"
        },
        "id": "_SLs2kt5wsMF",
        "outputId": "27e789d1-7766-4abc-93a0-b5f44433a47d"
      },
      "source": [
        "clf4 = BaggingClassifier(base_estimator=DecisionTreeClassifier(),n_estimators=100)\n",
        "clf4.fit(ev_bow,y_train)\n",
        "y_pred_test4 = clf4.predict(ev_test)\n",
        "print(classification_report(y_test,y_pred_test4))"
      ],
      "execution_count": null,
      "outputs": [
        {
          "output_type": "stream",
          "text": [
            "              precision    recall  f1-score   support\n",
            "\n",
            "           0       0.90      0.95      0.93        20\n",
            "           1       0.53      0.38      0.44        21\n",
            "           2       0.62      0.62      0.62        21\n",
            "           3       0.80      0.74      0.77        27\n",
            "           4       0.67      0.90      0.77        20\n",
            "\n",
            "    accuracy                           0.72       109\n",
            "   macro avg       0.70      0.72      0.71       109\n",
            "weighted avg       0.71      0.72      0.71       109\n",
            "\n"
          ],
          "name": "stdout"
        }
      ]
    },
    {
      "cell_type": "code",
      "metadata": {
        "colab": {
          "base_uri": "https://localhost:8080/"
        },
        "id": "VACP7lW1NPnP",
        "outputId": "f90d754c-6b73-4d7b-f8b5-5fbee0af65b1"
      },
      "source": [
        "from sklearn.tree import DecisionTreeClassifier\n",
        "clf5 = DecisionTreeClassifier()\n",
        "params = {'criterion':['gini','entropy'],'max_depth':[50,100,200]}\n",
        "cv = KFold(n_splits=5)\n",
        "grid  = GridSearchCV(clf5,param_grid=params,scoring='accuracy',cv=cv,n_jobs=-1)\n",
        "grid.fit(ev_bow,y_train)\n",
        "print('Best Score is {} and Best params are {}'.format(grid.best_score_,grid.best_params_))"
      ],
      "execution_count": null,
      "outputs": [
        {
          "output_type": "stream",
          "text": [
            "Best Score is 0.631916599839615 and Best params are {'criterion': 'entropy', 'max_depth': 100}\n"
          ],
          "name": "stdout"
        }
      ]
    },
    {
      "cell_type": "code",
      "metadata": {
        "colab": {
          "base_uri": "https://localhost:8080/"
        },
        "id": "2cb2i5uP5B84",
        "outputId": "cfab2b35-21b9-4634-f199-22946818e0ef"
      },
      "source": [
        "clf5 = DecisionTreeClassifier(criterion='entropy',max_depth=100)\n",
        "clf5.fit(ev_bow,y_train)\n",
        "y_pred_test5 = clf5.predict(ev_test)\n",
        "print(classification_report(y_test,y_pred_test5))"
      ],
      "execution_count": null,
      "outputs": [
        {
          "output_type": "stream",
          "text": [
            "              precision    recall  f1-score   support\n",
            "\n",
            "           0       0.74      0.85      0.79        20\n",
            "           1       0.50      0.33      0.40        21\n",
            "           2       0.60      0.57      0.59        21\n",
            "           3       0.69      0.67      0.68        27\n",
            "           4       0.65      0.85      0.74        20\n",
            "\n",
            "    accuracy                           0.65       109\n",
            "   macro avg       0.64      0.65      0.64       109\n",
            "weighted avg       0.64      0.65      0.64       109\n",
            "\n"
          ],
          "name": "stdout"
        }
      ]
    },
    {
      "cell_type": "code",
      "metadata": {
        "colab": {
          "base_uri": "https://localhost:8080/"
        },
        "id": "XO8dKoAGPEud",
        "outputId": "b7e4f54d-c9b0-46d0-941c-215d641c12fb"
      },
      "source": [
        "from sklearn.ensemble import AdaBoostClassifier\n",
        "clf6 = AdaBoostClassifier()\n",
        "params = {'n_estimators':[50,100,200],'learning_rate':[0.1,1]}\n",
        "cv = KFold(n_splits=5)\n",
        "grid  = GridSearchCV(clf6,param_grid=params,scoring='accuracy',cv=cv,n_jobs=-1)\n",
        "grid.fit(ev_bow,y_train)\n",
        "print('Best Score is {} and Best params are {}'.format(grid.best_score_,grid.best_params_))"
      ],
      "execution_count": null,
      "outputs": [
        {
          "output_type": "stream",
          "text": [
            "Best Score is 0.5600374231488907 and Best params are {'learning_rate': 0.1, 'n_estimators': 50}\n"
          ],
          "name": "stdout"
        }
      ]
    },
    {
      "cell_type": "code",
      "metadata": {
        "colab": {
          "base_uri": "https://localhost:8080/"
        },
        "id": "ySbHHZ266xJb",
        "outputId": "7cd5ba26-9192-4eab-b866-e48ece1605f9"
      },
      "source": [
        "clf6 = AdaBoostClassifier(n_estimators=100)\n",
        "clf6.fit(ev_bow,y_train)\n",
        "y_pred_test6 = clf6.predict(ev_test)\n",
        "print(classification_report(y_test,y_pred_test6))"
      ],
      "execution_count": null,
      "outputs": [
        {
          "output_type": "stream",
          "text": [
            "              precision    recall  f1-score   support\n",
            "\n",
            "           0       0.50      0.50      0.50        20\n",
            "           1       0.29      0.43      0.35        21\n",
            "           2       0.10      0.05      0.06        21\n",
            "           3       0.67      0.67      0.67        27\n",
            "           4       0.57      0.60      0.59        20\n",
            "\n",
            "    accuracy                           0.46       109\n",
            "   macro avg       0.43      0.45      0.43       109\n",
            "weighted avg       0.44      0.46      0.44       109\n",
            "\n"
          ],
          "name": "stdout"
        }
      ]
    },
    {
      "cell_type": "code",
      "metadata": {
        "colab": {
          "base_uri": "https://localhost:8080/"
        },
        "id": "XN3jYQ2TQFdw",
        "outputId": "0e77192e-f552-4bbd-8695-2ba54747bf87"
      },
      "source": [
        "from sklearn.ensemble import GradientBoostingClassifier\n",
        "clf7 = GradientBoostingClassifier()\n",
        "params = {'n_estimators':[50,100,200],'learning_rate':[0.1,1,10],'loss':['exponential','deviance']}\n",
        "cv = KFold(n_splits=5)\n",
        "grid  = GridSearchCV(clf7,param_grid=params,scoring='accuracy',cv=cv,n_jobs=-1)\n",
        "grid.fit(ev_bow,y_train)\n",
        "print('Best Score is {} and Best params are {}'.format(grid.best_score_,grid.best_params_))"
      ],
      "execution_count": null,
      "outputs": [
        {
          "output_type": "stream",
          "text": [
            "Best Score is 0.659529537556803 and Best params are {'learning_rate': 0.1, 'loss': 'deviance', 'n_estimators': 50}\n"
          ],
          "name": "stdout"
        }
      ]
    },
    {
      "cell_type": "code",
      "metadata": {
        "colab": {
          "base_uri": "https://localhost:8080/"
        },
        "id": "3QM4KhVV9_99",
        "outputId": "bfc87d69-2780-4d32-d9d2-6e0eb39e1fac"
      },
      "source": [
        "clf7 = GradientBoostingClassifier(loss='deviance',n_estimators=50,learning_rate=0.1)\n",
        "clf7.fit(ev_bow,y_train)\n",
        "y_pred_test7 = clf7.predict(ev_test)\n",
        "print(classification_report(y_test,y_pred_test7))"
      ],
      "execution_count": null,
      "outputs": [
        {
          "output_type": "stream",
          "text": [
            "              precision    recall  f1-score   support\n",
            "\n",
            "           0       0.74      0.85      0.79        20\n",
            "           1       0.47      0.33      0.39        21\n",
            "           2       0.45      0.48      0.47        21\n",
            "           3       0.83      0.74      0.78        27\n",
            "           4       0.68      0.85      0.76        20\n",
            "\n",
            "    accuracy                           0.65       109\n",
            "   macro avg       0.63      0.65      0.64       109\n",
            "weighted avg       0.64      0.65      0.64       109\n",
            "\n"
          ],
          "name": "stdout"
        }
      ]
    },
    {
      "cell_type": "code",
      "metadata": {
        "id": "M2S27jKVWOd8"
      },
      "source": [
        "from xgboost import XGBClassifier\n",
        "clf8 = XGBClassifier()\n",
        "params = {'n_estimators': [50,100,200], \"learning_rate\" : [0.1,1], \"max_depth\" : [10,50,100]}\n",
        "cv = KFold(n_splits=5)\n",
        "grid  = GridSearchCV(clf8,param_grid=params,scoring='accuracy',cv=cv,n_jobs=-1)\n",
        "grid.fit(ev_bow,y_train)\n",
        "print('Best Score is {} and Best params are {}'.format(grid.best_score_,grid.best_params_))\n"
      ],
      "execution_count": null,
      "outputs": []
    },
    {
      "cell_type": "code",
      "metadata": {
        "colab": {
          "base_uri": "https://localhost:8080/"
        },
        "id": "0KyCSFOqWYLL",
        "outputId": "092b138a-d4be-4450-9b47-72c76099d775"
      },
      "source": [
        "clf8 = XGBClassifier()\n",
        "clf8.fit(ev_bow,y_train)\n",
        "y_pred_test8 = clf8.predict(ev_test)\n",
        "print(classification_report(y_test,y_pred_test8))"
      ],
      "execution_count": null,
      "outputs": [
        {
          "output_type": "stream",
          "text": [
            "              precision    recall  f1-score   support\n",
            "\n",
            "           0       0.85      0.85      0.85        20\n",
            "           1       0.57      0.57      0.57        21\n",
            "           2       0.71      0.57      0.63        21\n",
            "           3       0.77      0.74      0.75        27\n",
            "           4       0.68      0.85      0.76        20\n",
            "\n",
            "    accuracy                           0.72       109\n",
            "   macro avg       0.72      0.72      0.71       109\n",
            "weighted avg       0.72      0.72      0.71       109\n",
            "\n"
          ],
          "name": "stdout"
        }
      ]
    },
    {
      "cell_type": "markdown",
      "metadata": {
        "id": "-rThtd02qGj-"
      },
      "source": [
        "###Pipelining the Process\n"
      ]
    },
    {
      "cell_type": "code",
      "metadata": {
        "colab": {
          "base_uri": "https://localhost:8080/"
        },
        "id": "mV2Mer-uIAw-",
        "outputId": "ac5721f9-a019-4515-e6c7-179e0bb13b69"
      },
      "source": [
        "from sklearn.pipeline import Pipeline\n",
        "text_clf = Pipeline([('vect',CountVectorizer(analyzer=clean)),\n",
        "                     ('tfidf',TfidfTransformer()),\n",
        "                     ('clf',MultinomialNB()),         \n",
        "                    ])\n",
        "text_clf.fit(x_train,y_train)\n",
        "predicted = text_clf.predict(x_test)\n",
        "print(classification_report(y_test,predicted))"
      ],
      "execution_count": null,
      "outputs": [
        {
          "output_type": "stream",
          "text": [
            "              precision    recall  f1-score   support\n",
            "\n",
            "           0       0.59      0.97      0.73        38\n",
            "           1       0.67      0.11      0.19        18\n",
            "           2       0.00      0.00      0.00         6\n",
            "           3       0.56      0.39      0.46        23\n",
            "           4       0.59      0.65      0.62        26\n",
            "\n",
            "    accuracy                           0.59       111\n",
            "   macro avg       0.48      0.43      0.40       111\n",
            "weighted avg       0.56      0.59      0.52       111\n",
            "\n"
          ],
          "name": "stdout"
        }
      ]
    },
    {
      "cell_type": "code",
      "metadata": {
        "colab": {
          "base_uri": "https://localhost:8080/"
        },
        "id": "RqSmQpPbIUPQ",
        "outputId": "42aa4070-7cbd-4615-f0e8-f202c6e6a6f1"
      },
      "source": [
        "text_clf = Pipeline([('vect',CountVectorizer(analyzer=clean)),\n",
        "                     ('tfidf',TfidfTransformer()),\n",
        "                     ('clf',SVC()),         \n",
        "                    ])\n",
        "text_clf.fit(x_train,y_train)\n",
        "predicted = text_clf.predict(x_test)\n",
        "print(classification_report(y_test,predicted))"
      ],
      "execution_count": null,
      "outputs": [
        {
          "output_type": "stream",
          "text": [
            "              precision    recall  f1-score   support\n",
            "\n",
            "           0       0.59      0.97      0.73        38\n",
            "           1       0.80      0.22      0.35        18\n",
            "           2       0.00      0.00      0.00         6\n",
            "           3       0.59      0.70      0.64        23\n",
            "           4       0.88      0.54      0.67        26\n",
            "\n",
            "    accuracy                           0.64       111\n",
            "   macro avg       0.57      0.49      0.48       111\n",
            "weighted avg       0.66      0.64      0.60       111\n",
            "\n"
          ],
          "name": "stdout"
        }
      ]
    },
    {
      "cell_type": "code",
      "metadata": {
        "colab": {
          "base_uri": "https://localhost:8080/"
        },
        "id": "VOpT9cLWIhqr",
        "outputId": "8bab5190-fa27-45cb-aeb6-e1c0e7563f35"
      },
      "source": [
        "text_clf = Pipeline([('vect',CountVectorizer(analyzer=clean)),\n",
        "                     ('tfidf',TfidfTransformer()),\n",
        "                     ('clf',DecisionTreeClassifier()),         \n",
        "                    ])\n",
        "text_clf.fit(x_train,y_train)\n",
        "predicted = text_clf.predict(x_test)\n",
        "print(classification_report(y_test,predicted))"
      ],
      "execution_count": null,
      "outputs": [
        {
          "output_type": "stream",
          "text": [
            "              precision    recall  f1-score   support\n",
            "\n",
            "           0       0.83      0.89      0.86        38\n",
            "           1       0.70      0.39      0.50        18\n",
            "           2       0.11      0.17      0.13         6\n",
            "           3       0.60      0.78      0.68        23\n",
            "           4       0.81      0.65      0.72        26\n",
            "\n",
            "    accuracy                           0.69       111\n",
            "   macro avg       0.61      0.58      0.58       111\n",
            "weighted avg       0.72      0.69      0.69       111\n",
            "\n"
          ],
          "name": "stdout"
        }
      ]
    },
    {
      "cell_type": "code",
      "metadata": {
        "colab": {
          "base_uri": "https://localhost:8080/"
        },
        "id": "E-C1KPEOHIzG",
        "outputId": "0bc678d8-09cf-4880-a079-914a53eecf8d"
      },
      "source": [
        "text_clf = Pipeline([('vect',CountVectorizer(analyzer=clean)),\n",
        "                     ('tfidf',TfidfTransformer()),\n",
        "                     ('clf',RandomForestClassifier()),         \n",
        "                    ])\n",
        "text_clf.fit(x_train,y_train)\n",
        "predicted = text_clf.predict(x_test)\n",
        "print(classification_report(y_test,predicted))"
      ],
      "execution_count": null,
      "outputs": [
        {
          "output_type": "stream",
          "text": [
            "              precision    recall  f1-score   support\n",
            "\n",
            "           0       0.79      0.97      0.87        38\n",
            "           1       0.90      0.50      0.64        18\n",
            "           2       0.50      0.17      0.25         6\n",
            "           3       0.61      0.87      0.71        23\n",
            "           4       0.84      0.62      0.71        26\n",
            "\n",
            "    accuracy                           0.75       111\n",
            "   macro avg       0.73      0.63      0.64       111\n",
            "weighted avg       0.77      0.75      0.73       111\n",
            "\n"
          ],
          "name": "stdout"
        }
      ]
    },
    {
      "cell_type": "code",
      "metadata": {
        "colab": {
          "base_uri": "https://localhost:8080/"
        },
        "id": "4PyAbnuHJIil",
        "outputId": "c5532d30-4509-4e1f-b582-dd1a8c2c1b62"
      },
      "source": [
        "text_clf = Pipeline([('vect',CountVectorizer(analyzer=clean)),\n",
        "                     ('tfidf',TfidfTransformer()),\n",
        "                     ('clf',AdaBoostClassifier()),         \n",
        "                    ])\n",
        "text_clf.fit(x_train,y_train)\n",
        "predicted = text_clf.predict(x_test)\n",
        "print(classification_report(y_test,predicted))"
      ],
      "execution_count": null,
      "outputs": [
        {
          "output_type": "stream",
          "text": [
            "              precision    recall  f1-score   support\n",
            "\n",
            "           0       0.64      0.89      0.75        38\n",
            "           1       0.57      0.44      0.50        18\n",
            "           2       0.00      0.00      0.00         6\n",
            "           3       0.62      0.70      0.65        23\n",
            "           4       0.72      0.50      0.59        26\n",
            "\n",
            "    accuracy                           0.64       111\n",
            "   macro avg       0.51      0.51      0.50       111\n",
            "weighted avg       0.61      0.64      0.61       111\n",
            "\n"
          ],
          "name": "stdout"
        }
      ]
    },
    {
      "cell_type": "code",
      "metadata": {
        "colab": {
          "base_uri": "https://localhost:8080/"
        },
        "id": "oGXLOEY0InZ3",
        "outputId": "f59f1e88-011e-4fc9-9a5b-d353a1448f4c"
      },
      "source": [
        "text_clf = Pipeline([('vect',CountVectorizer(analyzer=clean)),\n",
        "                     ('tfidf',TfidfTransformer()),\n",
        "                     ('clf',GradientBoostingClassifier()),         \n",
        "                    ])\n",
        "text_clf.fit(x_train,y_train)\n",
        "predicted = text_clf.predict(x_test)\n",
        "print(classification_report(y_test,predicted))"
      ],
      "execution_count": null,
      "outputs": [
        {
          "output_type": "stream",
          "text": [
            "              precision    recall  f1-score   support\n",
            "\n",
            "           0       0.85      0.87      0.86        38\n",
            "           1       0.77      0.56      0.65        18\n",
            "           2       0.00      0.00      0.00         6\n",
            "           3       0.60      0.78      0.68        23\n",
            "           4       0.77      0.77      0.77        26\n",
            "\n",
            "    accuracy                           0.73       111\n",
            "   macro avg       0.60      0.60      0.59       111\n",
            "weighted avg       0.72      0.73      0.72       111\n",
            "\n"
          ],
          "name": "stdout"
        }
      ]
    },
    {
      "cell_type": "code",
      "metadata": {
        "colab": {
          "base_uri": "https://localhost:8080/"
        },
        "id": "OCFsmrBRpb_a",
        "outputId": "5c25fd71-d7b6-4821-ea49-464b5e7719ec"
      },
      "source": [
        "text_clf = Pipeline([('vect',CountVectorizer(analyzer=clean)),\n",
        "                     ('tfidf',TfidfTransformer()),\n",
        "                     ('clf',BaggingClassifier()),         \n",
        "                    ])\n",
        "text_clf.fit(x_train,y_train)\n",
        "predicted = text_clf.predict(x_test)\n",
        "print(classification_report(y_test,predicted))\n"
      ],
      "execution_count": null,
      "outputs": [
        {
          "output_type": "stream",
          "text": [
            "              precision    recall  f1-score   support\n",
            "\n",
            "           0       0.80      0.92      0.85        38\n",
            "           1       0.77      0.56      0.65        18\n",
            "           2       0.40      0.33      0.36         6\n",
            "           3       0.76      0.83      0.79        23\n",
            "           4       0.88      0.81      0.84        26\n",
            "\n",
            "    accuracy                           0.78       111\n",
            "   macro avg       0.72      0.69      0.70       111\n",
            "weighted avg       0.78      0.78      0.78       111\n",
            "\n"
          ],
          "name": "stdout"
        }
      ]
    },
    {
      "cell_type": "code",
      "metadata": {
        "colab": {
          "base_uri": "https://localhost:8080/"
        },
        "id": "xe_nzL86IAvD",
        "outputId": "3f2cf395-9b6d-4c1a-806a-c96bdc261458"
      },
      "source": [
        "text_clf = Pipeline([('vect',CountVectorizer(analyzer=clean)),\n",
        "                     ('tfidf',TfidfTransformer()),\n",
        "                     ('clf',XGBClassifier()),         \n",
        "                    ])\n",
        "text_clf.fit(x_train,y_train)\n",
        "predicted = text_clf.predict(x_test)\n",
        "print(classification_report(y_test,predicted))"
      ],
      "execution_count": null,
      "outputs": [
        {
          "output_type": "stream",
          "text": [
            "              precision    recall  f1-score   support\n",
            "\n",
            "           0       0.87      0.87      0.87        38\n",
            "           1       0.81      0.72      0.76        18\n",
            "           2       0.33      0.33      0.33         6\n",
            "           3       0.74      0.87      0.80        23\n",
            "           4       0.88      0.81      0.84        26\n",
            "\n",
            "    accuracy                           0.80       111\n",
            "   macro avg       0.73      0.72      0.72       111\n",
            "weighted avg       0.81      0.80      0.80       111\n",
            "\n"
          ],
          "name": "stdout"
        }
      ]
    },
    {
      "cell_type": "markdown",
      "metadata": {
        "id": "qK_5S9g6HJdc"
      },
      "source": [
        "###Saving Model"
      ]
    },
    {
      "cell_type": "code",
      "metadata": {
        "id": "Ow6cmcSNqh6-"
      },
      "source": [
        "import pickle\n",
        "pickle.dump(text_clf, open('model.pickle','wb'))"
      ],
      "execution_count": null,
      "outputs": []
    }
  ]
}